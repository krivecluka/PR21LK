{
 "cells": [
  {
   "cell_type": "markdown",
   "metadata": {
    "lang": "sl"
   },
   "source": [
    "## Priprava podatkov, osnovne statistike in vizualizacija\n",
    "\n",
    "Podatkovno rudarjenje, naloga, `21. 03. 22`  \n",
    "**Luka Krivec**\n"
   ]
  },
  {
   "cell_type": "markdown",
   "metadata": {
    "lang": "sl"
   },
   "source": [
    "Neizogiben del vsakega projekta na področju podatkovnega rudarjenja je iskanje,\n",
    "urejanje in priprava podatkov. V tej nalogi boste spoznali primer podatkovne\n",
    "zbirke in uporabili postopke za pretvorbo podatkov v ustrezno obliko ter pregled in\n",
    "prikaz osnovnih statistik."
   ]
  },
  {
   "cell_type": "markdown",
   "metadata": {
    "lang": "sl"
   },
   "source": [
    "### Podatki\n",
    "\n",
    "V nalogi boste pregledali in pripravili podatke gledanosti Hollywoodskih filmov\n",
    "zbirke [MovieLens](https://grouplens.org/datasets/movielens/) v obdobju **1995-2016**.\n",
    "\n",
    "Iste podatke boste uporabili v vseh nalogah, zato jih dodobra spoznajte. Gre za podatkovno zbirko za\n",
    "vrednotenje priporočilnih sistemov, ki vsebuje gledalce ter njihove ocene za posamezni film na lestvici 1 do 5. \n",
    "Poleg osnovne matrike uporabnikov in ocen vsebuje še dodatne podatke o filmih (npr. žanr, datum, oznake,\n",
    "igralci).\n",
    "\n",
    "Podatki so v mapi `./podatki/ml-latest-small`. Podatkovna zbirka vsebuje naslednje datoteke:\n",
    "\n",
    "* ratings.csv: podatki o uporabnikih in ocenah,\n",
    "* movies.csv: podatki o žanrih filmov,\n",
    "* cast.csv: podatki o igralcih,\n",
    "* tags.csv: podatki o oznakah (ang. \\emph{tags}),\n",
    "* links.csv: povezave na sorodne podatkovne zbirke.\n",
    "\n",
    "\n",
    "Pred pričetkom reševanja naloge si dobro oglejte podatke in datoteko **README.txt**. Podrobnosti o zbirki lahko preberete na [spletni strani](http://files.grouplens.org/datasets/movielens/ml-latest-small-README.html).\n",
    "\n",
    "Pripravite metode za nalaganje podatkov v ustrezne podatkovne strukture. Te vam bodo prišle\n",
    "prav tudi pri nadaljnjih nalogah.\n",
    "Bodite pozorni na velikost podatkov."
   ]
  },
  {
   "cell_type": "markdown",
   "metadata": {
    "lang": "sl"
   },
   "source": [
    "Zapišite kodo za branje datotek in pripravo ustreznih matrik (in drugih struktur) podatkov, ki jih boste uporabi pri odgovarjanju na spodnja vprašanja.\n",
    "\n",
    "Kodo lahko razdelite v več celic."
   ]
  },
  {
   "cell_type": "code",
   "execution_count": 436,
   "metadata": {},
   "outputs": [],
   "source": [
    "%matplotlib inline\n",
    "%config InlineBackend.figure_formats = ['jpg']\n",
    "import matplotlib\n",
    "matplotlib.figure.Figure.__repr__ = lambda self: (\n",
    "    f\"<{self.__class__.__name__} size {self.bbox.size[0]:g}\"\n",
    "    f\"x{self.bbox.size[1]:g} with {len(self.axes)} Axes>\")\n",
    "\n",
    "import matplotlib.image as mpimg\n",
    "import matplotlib.pyplot as plt\n",
    "from Orange.data.filter import SameValue\n",
    "from Orange.data import Table\n",
    "from csv import DictReader\n",
    "import numpy as np\n",
    "import collections\n",
    "\n"
   ]
  },
  {
   "cell_type": "code",
   "execution_count": 437,
   "metadata": {
    "scrolled": true
   },
   "outputs": [],
   "source": [
    "\n",
    "np.set_printoptions(suppress=True, precision=4)\n",
    "\n",
    "ocene = np.loadtxt('podatki/ml-latest-small/ratings.csv', delimiter=\",\", skiprows=1).astype(int)\n"
   ]
  },
  {
   "cell_type": "markdown",
   "metadata": {
    "lang": "sl"
   },
   "source": [
    "### Vprašanja\n",
    "\n",
    "Glavni namen podatkovnega rudarjenja je *odkrivanje znanj iz podatkov*,\n",
    "torej odgovarjanje na vprašanja z uporabo računskih postopkov.\n",
    "\n",
    "Z uporabo principov, ki ste jih spoznali na vajah in predavanjih, odgovorite na\n",
    "spodnja vprašanja. Pri vsakem vprašanju dobro premislite, na kakšen način boste\n",
    "najbolje podali, prikazali oz. utemeljili odgovor. Bistven del so odgovori na\n",
    "vprašanja in ne implementacija vaše rešitve."
   ]
  },
  {
   "cell_type": "markdown",
   "metadata": {
    "lang": "sl"
   },
   "source": [
    "#### 1. vprašanje (15%):\n",
    "Kateri filmi so v povprečju najbolje ocenjeni?  Pripravite seznam\n",
    "filmov ter njihovih povprečnih ocen in izpišite 10 filmov z vrha seznama.\n",
    "Opazite pri takem ocenjevanju kakšno težavo? Kako bi jo lahko rešili? Kakšni so\n",
    "rezultati tedaj?\n",
    "\n",
    "Kodo lahko razdelite v več celic."
   ]
  },
  {
   "cell_type": "code",
   "execution_count": 420,
   "metadata": {
    "scrolled": true
   },
   "outputs": [
    {
     "name": "stdout",
     "output_type": "stream",
     "text": [
      "Ocena filma | moviID\n",
      "--------------------\n",
      "     5.0    |  53\n",
      "     5.0    |  183\n",
      "     5.0    |  301\n",
      "     5.0    |  309\n",
      "     5.0    |  559\n",
      "     5.0    |  702\n",
      "     5.0    |  759\n",
      "     5.0    |  764\n",
      "     5.0    |  820\n",
      "     5.0    |  845\n"
     ]
    }
   ],
   "source": [
    "#unikatni filmi po atributu movieID\n",
    "unikat_filmi = np.unique(ocene[:,1])\n",
    "\n",
    "# unikat_filmi.shape\n",
    "# np.sort(unikat_filmi)\n",
    "\n",
    "# seznam filmov in njihove povprecne ocene\n",
    "povprecja = [[np.mean(ocene[(ocene[:,1]==movieID),2]),movieID] for movieID in unikat_filmi]\n",
    "urejeni = sorted(povprecja, key=lambda t: t[0], reverse=True)\n",
    "\n",
    "#izpis\n",
    "print(\"Ocena filma | moviID\")\n",
    "print(\"--------------------\")\n",
    "for i in range(10):\n",
    "    print(f\"     {urejeni[i][0]}    |  {urejeni[i][1]}\")\n"
   ]
  },
  {
   "cell_type": "markdown",
   "metadata": {},
   "source": [
    "**Odgovor:**  \n",
    "Najprej ustvarim array z vsemi unikatnimi filmi skozi katerega se bom premikal, ko bom vpisoval povprecno vrednost ocene za vsak film.    \n",
    "Ustvarim seznam seznamov, ki vsebuje povprecno vrednost ocen filma in njegov ID.    \n",
    "Nato seznam uredim padajoce po vrednosti povprecne ocene.  \n",
    "Izpisem prvih 10 vrednosti.  \n",
    "  \n",
    "Opazim da ima vseh 10 filmov perfektno povprecno oceno 5.  \n",
    "Tu se pojavi tezava, ki jo bom reseval v naslednji vrstici.  \n"
   ]
  },
  {
   "cell_type": "code",
   "execution_count": 422,
   "metadata": {},
   "outputs": [
    {
     "name": "stdout",
     "output_type": "stream",
     "text": [
      "Ocena filma | moviID\n",
      "--------------------\n",
      "     4.64   |  1939\n",
      "     4.50   |  3469\n",
      "     4.42   |  1948\n",
      "     4.41   |  3035\n",
      "     4.41   |  318\n",
      "     4.39   |  858\n",
      "     4.37   |  926\n",
      "     4.36   |  1066\n",
      "     4.36   |  2202\n",
      "     4.36   |  2064\n"
     ]
    }
   ],
   "source": [
    "#Pridobi stevila ocen za vsak film\n",
    "unique, counts = np.unique(ocene[:,1], return_counts=True)\n",
    "st_ocen = dict(zip(unique, counts))\n",
    "st_ocen\n",
    "\n",
    "# Pridobi povprecno stevilo ocen\n",
    "avg_nb_rating= np.mean(counts)\n",
    "# print(avg_nb_rating) \n",
    "# avg_nb_rating = 11.030664019413193\n",
    "\n",
    "najbolse_povprecje = []\n",
    "for movieID in unikat_filmi:\n",
    "    if st_ocen[movieID] >= 11:\n",
    "        najbolse_povprecje.append([np.mean(ocene[(ocene[:,1]==movieID),2]),movieID])\n",
    "\n",
    "\n",
    "        \n",
    "urejeni_najbols = sorted(najbolse_povprecje, key=lambda t: t[0], reverse=True)  \n",
    "\n",
    "#izpis\n",
    "print(\"Ocena filma | moviID\")\n",
    "print(\"--------------------\")\n",
    "for i in range(10):\n",
    "    print(\"     {:.2f}   |  {}\".format(urejeni_najbols[i][0],urejeni_najbols[i][1]))"
   ]
  },
  {
   "cell_type": "markdown",
   "metadata": {
    "lang": "sl"
   },
   "source": [
    "**Odgovor:**  \n",
    "Ustvarim slovar filmov in stevila ocen, ki jih ima.    \n",
    "Hitro opazim, da imajo najbolje ocenjeni filmi iz prejsne vrstice samo eno oceno, perfektno 5.  \n",
    "To nepravicno ocenjevanje in ne odraza realnega mnenja in ocene filma, saj imajo najbolje ocenjeni filmi premalo ocen.\n",
    "Odlocim se, da bom ocenjeval filme, ki imajo dovolj ocen.  \n",
    "Mejo najdem tako, da pridobim povprecno stevilo ocen na film. Ta znasa malo cez 11.  \n",
    "Ponovno ustvarim seznam seznamov filmov in njihove povprecne ocene, a tokrat je pogoj, da film pristane na seznamu ta, da mora imeti vec ali enako ocen kot 11.  \n",
    "  \n",
    "Rezultati je zadovoljivi, najbolsa povprecna ocena je 4.64."
   ]
  },
  {
   "cell_type": "markdown",
   "metadata": {
    "lang": "sl"
   },
   "source": [
    "#### 2. vprašanje (15%):\n",
    "Posamezni film pripada enemu ali več žanrom. \n",
    "Koliko je vseh žanrov? Prikaži porazdelitev žanrov z uporabo ustrezne\n",
    "vizualizacije.\n",
    "\n",
    "Kodo lahko razdelite v več celic."
   ]
  },
  {
   "cell_type": "code",
   "execution_count": 424,
   "metadata": {},
   "outputs": [
    {
     "data": {
      "text/plain": [
       "{'Drama': 4365,\n",
       " 'Comedy': 3315,\n",
       " 'Thriller': 1729,\n",
       " 'Romance': 1545,\n",
       " 'Action': 1545,\n",
       " 'Adventure': 1117,\n",
       " 'Crime': 1100,\n",
       " 'Horror': 877,\n",
       " 'Sci-Fi': 792,\n",
       " 'Fantasy': 654,\n",
       " 'Children': 583,\n",
       " 'Mystery': 543,\n",
       " 'Documentary': 495,\n",
       " 'Animation': 447,\n",
       " 'Musical': 394,\n",
       " 'War': 367,\n",
       " 'Western': 168,\n",
       " 'IMAX': 153,\n",
       " 'Film-Noir': 133,\n",
       " 'Ni podatka': 18}"
      ]
     },
     "execution_count": 424,
     "metadata": {},
     "output_type": "execute_result"
    }
   ],
   "source": [
    "#Preberem podatke iz movies.csv\n",
    "filmi = DictReader(open('podatki/ml-latest-small/movies.csv', 'rt', encoding='utf-8'))\n",
    "\n",
    "#Ustvarim slovar, ki bo stel pojavitve\n",
    "zanr_count = collections.defaultdict(int)\n",
    "\n",
    "#Pristevam pojavitve seznamu\n",
    "for row in filmi:\n",
    "    for zanr in row['genres'].split(\"|\"):\n",
    "        if zanr == '(no genres listed)':\n",
    "            zanr_count['Ni podatka']+=1\n",
    "        else:\n",
    "            zanr_count[zanr]+=1\n",
    "\n",
    "urejeni_zanr = {k: v for k, v in sorted(zanr_count.items(), key=lambda item: item[1], reverse=True)}\n",
    "urejeni_zanr"
   ]
  },
  {
   "cell_type": "code",
   "execution_count": 425,
   "metadata": {},
   "outputs": [
    {
     "data": {
      "image/jpeg": "[encoded data removed]",
      "text/plain": [
       "<Figure size 1728x504 with 1 Axes>"
      ]
     },
     "metadata": {
      "needs_background": "light"
     },
     "output_type": "display_data"
    }
   ],
   "source": [
    "#Izrisem barplot\n",
    "\n",
    "plt.figure(figsize=(24,7))\n",
    "# mylist = [key for key, val in zanr_count.items() for _ in range(val)]\n",
    "# plt.hist(mylist, density=True, bins=20)\n",
    "plt.bar(list(urejeni_zanr.keys()), urejeni_zanr.values(), color='g', width=0.9)\n",
    "plt.xlabel('Število pojavitev', size=30)\n",
    "plt.ylabel('Žanr filma', size=30);"
   ]
  },
  {
   "cell_type": "markdown",
   "metadata": {
    "lang": "sl"
   },
   "source": [
    "**Odgovor:**  \n",
    "Preberem podatke iz datoteke movies.csv v slovar, s pomocjo ukaza DictReader    \n",
    "Ustvarim collections slovar, ki bo stel pojavitve.   \n",
    "Z zanko se sprehodim cez vse vrstice podatkov in ustvariom seznam nizov v atributu 'genres' s pomocjo ukaza split(), ki niz   razdeli na vec podnizov. Locevalni znak je \"|\".  \n",
    "Kjucu slovarja, ki je eden iz med moznih zanrov pristejem 1, ce se niza oz. zanra ujemata. \n",
    "Ce film ni opredeljen, sej vrednost pristeje kljucu \"Ni podatka\n",
    "Uredim pridobljeni slovar in izrisem barplot."
   ]
  },
  {
   "cell_type": "markdown",
   "metadata": {
    "lang": "sl"
   },
   "source": [
    "#### 3. vprašanje (20%):\n",
    "Število ocen (ogledov) se za posamezni film razlikuje. Ali\n",
    "obstaja povezava med gledanostjo in povprečno oceno filma? Opišite postopek, ki\n",
    "ste ga uporabili pri odgovarjanju na vprašanje.\n",
    "\n",
    "Kodo lahko razdelite v več celic."
   ]
  },
  {
   "cell_type": "code",
   "execution_count": 426,
   "metadata": {},
   "outputs": [
    {
     "data": {
      "text/plain": [
       "0.13866661583949302"
      ]
     },
     "execution_count": 426,
     "metadata": {},
     "output_type": "execute_result"
    }
   ],
   "source": [
    "#Ustvari seznam seznamov z vrednostmi movieID, ocena, st ogledov\n",
    "ogled_ocena = [[movieID,np.mean(ocene[(ocene[:,1]==movieID),2]), st_ocen[movieID]] for movieID in unikat_filmi]\n",
    "\n",
    "#Pretvori 2d list v array\n",
    "ogled_ocena = np.array(ogled_ocena) \n",
    "ogled_ocena\n",
    "\n",
    "#Pearsonova korelacija\n",
    "def pearson(x, y):\n",
    "    return np.mean(((x - np.mean(x))*(y-np.mean(y)))/(np.std(x)*np.std(y)))\n",
    "\n",
    "\n",
    "\n",
    "x = ogled_ocena[:, 1]    # ocena\n",
    "y = ogled_ocena[:, 2]    # ogled\n",
    "\n",
    "pearson(x, y)\n",
    "# pearson(x, y) = 0.13866661583949302\n",
    "   \n",
    " "
   ]
  },
  {
   "cell_type": "code",
   "execution_count": 500,
   "metadata": {},
   "outputs": [
    {
     "data": {
      "text/plain": [
       "Text(0, 0.5, 'ogled')"
      ]
     },
     "execution_count": 500,
     "metadata": {},
     "output_type": "execute_result"
    },
    {
     "data": {
      "image/jpeg": "[encoded data removed]",
      "text/plain": [
       "<Figure size 432x360 with 1 Axes>"
      ]
     },
     "metadata": {
      "needs_background": "light"
     },
     "output_type": "display_data"
    }
   ],
   "source": [
    "#Izris scatterplot\n",
    "plt.figure(figsize=(6,5))\n",
    "x = ogled_ocena[:, 1]    # ocena\n",
    "y = ogled_ocena[:, 2]    # ogled\n",
    "plt.plot(x, y, \".\")\n",
    "plt.xlabel('ocena', size=15)\n",
    "plt.ylabel('ogled', size=15)"
   ]
  },
  {
   "cell_type": "markdown",
   "metadata": {
    "lang": "sl"
   },
   "source": [
    "**Odgovor:**  \n",
    "Ustvaril sem nov seznam seznamov s 3 vrednostmi: movieID, ocena filma ter stevilo ocen(ogledov) filma.    \n",
    "Ustaril sem ga s pomocjo prejsnih ze definiranh podatkovnih struktur st_ocen, unikat_filmi ter ocene.  \n",
    "Dvodimenzionalni python seznam sem pretvoril v numpy array.  \n",
    "  \n",
    "Na odgovor ali obstaja povezava med gledanostjo in povprečno oceno filma, sem poskusil odgovoriti z izracunom korelacije med   dvema atributoma. Uporabil sem Pearsonov pristop.  \n",
    "\n",
    "Definiral sem funkcijo in vnesel podatke.   \n",
    "Prisel sem do rezulatata 0.13867, ki mi pove, da obstaja majhna, zanemarljiva korelacija med atributoma.  \n",
    "Atributa sta torej (razen nekaj osamelcev iz 1. naloge) neodvisna.  \n",
    "  \n",
    "Da sem se preprical v rezultat in si lazje predstavljal samo korelacijo, sem izrisal razsevni diagra, ki da jasen rezultat. "
   ]
  },
  {
   "cell_type": "markdown",
   "metadata": {
    "lang": "sl"
   },
   "source": [
    "#### 4. vprašanje (30%):\n",
    "Vsaka ocena je bila vnešena na določen datum (stolpec\n",
    "*timestamp*).  Ali se popularnost posameznih filmov s časom spreminja?\n",
    "Problem reši tako, da za dani film ocene razporediš po času ter v vsaki časovni\n",
    "točki izračunaš povprečje za zadnjih 30, 50, ali 100 ocen. Nariši graf, kako se\n",
    "ocena spreminja in ga prikaži za dva zanimiva primera filmov.\n",
    "\n",
    "Kodo lahko razdelite v več celic."
   ]
  },
  {
   "cell_type": "code",
   "execution_count": 428,
   "metadata": {},
   "outputs": [],
   "source": [
    "#Pogledam kateri filmi imajo najvec ocen, dajih bom kasneje podrobneje analiziral. \n",
    "najv_ocen = dict(sorted(st_ocen.items(), key=lambda item: item[1],reverse=True)) \n",
    "# print(najv_ocen)\n",
    "#Odlocim se za filma z id 356 in 318  \n",
    "\n",
    "\n",
    "#ustvarim 2 slovarja z ocenami in datumi\n",
    "forrest = {}\n",
    "shaw = {}\n",
    "for row in ocene:\n",
    "    oc +=1\n",
    "    if row[1] == 356:\n",
    "        forrest[row[3]]= row[2]\n",
    "    elif row[1] == 318:\n",
    "        shaw[row[3]]= row[2]\n",
    "\n",
    "#Uredim po datumu\n",
    "forrest_sort = dict(sorted(forrest.items(), key=lambda item: item[0],reverse=False)) \n",
    "shaw_sort = dict(sorted(shaw.items(), key=lambda item: item[0],reverse=False))\n",
    "\n",
    "\n",
    "\n",
    "#povpr n ocen\n",
    "def povpr(n, slov):\n",
    "    rez = {}\n",
    "    zac = 0\n",
    "    povpr = []\n",
    "    for k,v in slov.items():\n",
    "        \n",
    "        povpr.append(v)\n",
    "        zac +=1\n",
    "        if zac >= n:\n",
    "            rez[k]=sum(povpr)/n\n",
    "            povpr.remove(povpr[0])\n",
    "    return rez\n",
    "\n",
    "neki = povpr(3,shaw_sort)\n",
    "\n",
    "#forrest povprecje 30,50,100\n",
    "forrest30 = povpr(30,forrest_sort)\n",
    "forrest50 = povpr(50,forrest_sort)\n",
    "forrest100 = povpr(100,forrest_sort)\n",
    "\n",
    "forrest100\n",
    "\n",
    "#shawshenk povprecje 30,50,100\n",
    "shaw30 = povpr(30,shaw_sort)\n",
    "shaw50 = povpr(50,shaw_sort)\n",
    "shaw100 = povpr(100,shaw_sort)\n",
    "\n",
    "# forrest30\n"
   ]
  },
  {
   "cell_type": "code",
   "execution_count": 429,
   "metadata": {},
   "outputs": [],
   "source": [
    "from datetime import datetime\n",
    "\n",
    "#Zacetni in koncni datum shawshenk\n",
    "s30 = 840205118 #'1996-08-16 16:18'\n",
    "s50 = 847465462 #'1996-11-08 16:04'\n",
    "s100 = 971217748 #'2000-10-11 00:42'\n",
    "eE = 1473803992 #'2016-09-13 23:59'\n",
    "\n",
    "#Zacetni in koncni datum forrest\n",
    "f30 = 840100475 #'1996-08-15 11:14'\n",
    "f50 = 845157265 #'1996-10-12 23:54'\n",
    "f100 = 942705608 #'1999-11-15 23:40'\n",
    "fE = 1476478274 #'2016-10-14 22:51'\n",
    "\n",
    "# ts = datetime.fromtimestamp(fE).strftime('%Y-%m-%d %H:%M')\n",
    "\n"
   ]
  },
  {
   "cell_type": "code",
   "execution_count": null,
   "metadata": {},
   "outputs": [],
   "source": []
  },
  {
   "cell_type": "code",
   "execution_count": 430,
   "metadata": {},
   "outputs": [],
   "source": [
    "from sklearn import preprocessing\n",
    "\n",
    "#Forrest normalizirani X os in Y os\n",
    "f30_ = np.fromiter(forrest30.keys(), dtype=int)\n",
    "f30_X = preprocessing.normalize([f30_])\n",
    "f30_Y = np.fromiter(forrest30.values(), dtype=float)\n",
    "\n",
    "f50_ = np.fromiter(forrest50.keys(), dtype=int)\n",
    "f50_X = preprocessing.normalize([f50_])\n",
    "f50_Y = np.fromiter(forrest50.values(), dtype=float)\n",
    "\n",
    "f100_ = np.fromiter(forrest100.keys(), dtype=int)\n",
    "f100_X = preprocessing.normalize([f100_])\n",
    "f100_Y = np.fromiter(forrest100.values(), dtype=float)\n",
    "\n",
    "#Forrest normalizirani X os in Y os\n",
    "s30_ = np.fromiter(shaw30.keys(), dtype=int)\n",
    "s30_X = preprocessing.normalize([s30_])\n",
    "s30_Y = np.fromiter(shaw30.values(), dtype=float)\n",
    "\n",
    "s50_ = np.fromiter(shaw50.keys(), dtype=int)\n",
    "s50_X = preprocessing.normalize([s50_])\n",
    "s50_Y = np.fromiter(shaw50.values(), dtype=float)\n",
    "\n",
    "s100_ = np.fromiter(shaw100.keys(), dtype=int)\n",
    "s100_X = preprocessing.normalize([s100_])\n",
    "s100_Y = np.fromiter(shaw100.values(), dtype=float)\n",
    "\n"
   ]
  },
  {
   "cell_type": "code",
   "execution_count": 506,
   "metadata": {},
   "outputs": [
    {
     "data": {
      "text/plain": [
       "Text(0.5, 0, 'ogled')"
      ]
     },
     "execution_count": 506,
     "metadata": {},
     "output_type": "execute_result"
    },
    {
     "data": {
      "image/jpeg": "[encoded data removed]",
      "text/plain": [
       "<Figure size 1800x288 with 3 Axes>"
      ]
     },
     "metadata": {
      "needs_background": "light"
     },
     "output_type": "display_data"
    }
   ],
   "source": [
    "#Primerjava med filmoma v razlicnih obdobjih\n",
    "fig, axes = plt.subplots(1, 3, figsize=(25, 4))\n",
    "\n",
    "axes[0].plot(f30_X[0], f30_Y, s30_X[0], s30_Y)\n",
    "axes[0].set_title('Povprečje 30 dni', size=20)\n",
    "axes[0].set_ylabel('ocena', size=15)\n",
    "axes[0].set_xlabel('ogled', size=15)\n",
    "\n",
    "axes[1].plot(f50_X[0], f50_Y, s50_X[0], s50_Y)\n",
    "axes[1].set_title('Povprečje 50 dni', size=20)\n",
    "axes[1].set_ylabel('ocena', size=15)\n",
    "axes[1].set_xlabel('ogled', size=15)\n",
    "\n",
    "axes[2].plot(f100_X[0], f100_Y, s100_X[0], s100_Y)\n",
    "axes[2].set_title('Povprečje 100 dni', size=20)\n",
    "axes[2].set_ylabel('ocena', size=15)\n",
    "axes[2].set_xlabel('ogled', size=15)\n",
    "\n"
   ]
  },
  {
   "cell_type": "code",
   "execution_count": null,
   "metadata": {},
   "outputs": [],
   "source": [
    "#Primerjava filma Forrest Gump glede stevila dni\n",
    "plt.figure(figsize=(15, 4))\n",
    "plt.plot(f30_X[0], f30_Y, \".-\")\n",
    "plt.plot(f50_X[0], f50_Y, \".-\")\n",
    "plt.plot(f100_X[0], f100_Y, \".-\")\n",
    "plt.title(\"Povprečje višine ocen filma Forrest Gumb skozi čas\")\n",
    "plt.xlabel('leto', size=15)\n",
    "plt.ylabel('ocena', size=15)\n",
    "# my_xticks = ['John','Arnold','Mavis','Matt']\n",
    "# plt.xticks(x, my_xticks)"
   ]
  },
  {
   "cell_type": "markdown",
   "metadata": {
    "lang": "sl"
   },
   "source": [
    "**Odgovor:**  \n",
    "Pogledam kateri filmi imajo najvec ocen, da jih bom kasneje podrobneje analiziral.  \n",
    "Odlocim se za filma z id 356 in 318. To sta Forrest Gump in pa Shawshenk redemption.  \n",
    "Ustvarim dva slovarja z ocenami in datumi.  \n",
    "Uredim po datumu narascajoce. Napisem funkcijo, ki racuna povprecje zadnjih n ocen.\n",
    "Rezultate vpisem v spremenljivke. Datume pretvorim v berljivo obliko, da si lazje predstavljam v kaksnem casovnem intervalu pregledujem ocene.  \n",
    "Uvozim knjiznico sklearn s katero normaliziram datume.\n",
    "Izrisem 3 grafe, za vsak graf razlicen n. Primerjam povprecne ocene obeh filmov skozi casovno obdobje.\n",
    "Izrisem se en graf, kjer je lepo razvidno, da vecji kot je n, manj je nihanj med povprecjem ocen, bolj je krivulja linearna.\n",
    "\n",
    "\n"
   ]
  },
  {
   "cell_type": "markdown",
   "metadata": {
    "lang": "sl"
   },
   "source": [
    "#### 5. vprašanje (20%):\n",
    "Kako bi ocenili popularnost posameznih igralcev? Opišite postopek\n",
    "ocenitve ter izpišite 10 najbolj popularnih igralcev.\n",
    "\n",
    "Kodo lahko razdelite v več celic."
   ]
  },
  {
   "cell_type": "code",
   "execution_count": 466,
   "metadata": {},
   "outputs": [],
   "source": [
    "ocene = np.loadtxt('podatki/ml-latest-small/ratings.csv', delimiter=\",\", skiprows=1).astype(int)\n",
    "\n",
    "#Preberem podatke iz movies.csv\n",
    "igralci_reader = DictReader(open('podatki/ml-latest-small/cast.csv', 'rt', encoding='utf-8'))\n",
    "\n",
    "\n",
    "\n",
    "#slovar vseh filmov nekega igralca\n",
    "igralci = collections.defaultdict(list)\n",
    "for row in igralci_reader:\n",
    "    for igralec in row['cast'].split(\"|\"):\n",
    "        igralci[igralec].append(row['movieId'])\n",
    "        \n",
    "igralci\n",
    "\n",
    "ocena_filma = collections.defaultdict(float)\n",
    "for movieID in unikat_filmi:\n",
    "    ocena_filma[int(movieID)] = np.mean(ocene[(ocene[:,1]==movieID),2])\n",
    "\n",
    "ocena_filma\n",
    "\n",
    "\n",
    "\n",
    "\n"
   ]
  },
  {
   "cell_type": "code",
   "execution_count": 499,
   "metadata": {},
   "outputs": [
    {
     "name": "stdout",
     "output_type": "stream",
     "text": [
      "11\n",
      " popularnost |     igralec\n",
      "-----------------------------------\n",
      "     3.96    |  Alec Guinness\n",
      "     3.87    |  Takashi Shimura\n",
      "     3.85    |  Charles Chaplin\n",
      "     3.84    |  Derek Jacobi\n",
      "     3.80    |  Cary Grant\n",
      "     3.78    |  Jacqueline Bisset\n",
      "     3.72    |  Audrey Hepburn\n",
      "     3.72    |  Michael Palin\n",
      "     3.71    |  Gregory Peck\n",
      "     3.71    |  George Carlin\n"
     ]
    }
   ],
   "source": [
    "\n",
    "ocena_igr = {}\n",
    "for k,v in igralci.items():\n",
    "    divider = 0\n",
    "    ocene = 0\n",
    "    for movieId in v:\n",
    "        divider +=1\n",
    "        ocene += ocena_filma[int(movieId)]\n",
    "    if divider >= 11:\n",
    "        ocena_igr[k] = ocene/divider\n",
    "    if k == 'Diego Luna':\n",
    "        print(divider)\n",
    "        \n",
    "\n",
    "\n",
    "popularni = {k: v for k, v in sorted(ocena_igr.items(), key=lambda item: item[1], reverse=True)}\n",
    "\n",
    "print(\" popularnost |     igralec\")\n",
    "print(\"-----------------------------------\")\n",
    "for i in range(10):\n",
    "    res = list(popularni.keys())\n",
    "    print(\"     {:.2f}    |  {}\".format(popularni[res[i]],res[i]))"
   ]
  },
  {
   "cell_type": "code",
   "execution_count": null,
   "metadata": {},
   "outputs": [],
   "source": [
    "plt.figure(figsize=(5, 6))\n",
    "\n",
    "for si, sport in enumerate(sports):\n",
    "    xs = heights_by_sport[sport]    # x os\n",
    "    ys = [si for x in xs]           # y os je v visini sporta\n",
    "    zs = weights_by_sport[sport]    # velikost točke je premosorazmerna s tezo\n",
    "    \n",
    "    for x, y, z in zip(xs, ys, zs): # rišemo točko po točko\n",
    "        plt.plot(x, y, \"m.\", alpha=0.5, markersize=z/5)\n",
    "            \n",
    "plt.yticks(range(len(sports)))\n",
    "plt.ylim(-0.5, len(sports)-0.5)\n",
    "plt.gca().set_yticklabels(sports)\n",
    "        \n",
    "plt.xlabel(\"višina (m)\")\n",
    "plt.ylabel(\"šport\");\n",
    "plt.savefig('slike/odgovori/2-2-8.png', bbox_inches='tight')"
   ]
  },
  {
   "cell_type": "markdown",
   "metadata": {
    "lang": "sl"
   },
   "source": [
    "**Odgovor:**  \n",
    "Preberem podatke iz movies.csv s pomocjo dictreaderja.  \n",
    "\n",
    "Vsakemu igralcu pripisem vse filme v katerih je igral in so bili ocenjeni.  \n",
    "Za vsak film zracunam se povprecno oceno.  \n",
    "Pri vsakem igralcu sestejem povprecne ocene v katerih je igral, ter delim s stevilom filmov. Iz podobnih razlogov kot v prvi nalogi, stejem samo igralce, ki so igrali v vsaj enajstih ocenjenih filmih.\n"
   ]
  },
  {
   "cell_type": "markdown",
   "metadata": {
    "lang": "sl"
   },
   "source": [
    "#### Bonus vprašanje (5%):\n",
    "\n",
    "Kateri je tvoj najljubši film? Zakaj?"
   ]
  },
  {
   "cell_type": "markdown",
   "metadata": {
    "lang": "sl"
   },
   "source": [
    "Odgovor: **zapišite utemeljitev odgovora**"
   ]
  },
  {
   "cell_type": "markdown",
   "metadata": {},
   "source": []
  },
  {
   "cell_type": "markdown",
   "metadata": {
    "lang": "sl"
   },
   "source": [
    "### Zapiski\n",
    "Za nalaganje podatkov lahko uporabite modul `csv`."
   ]
  },
  {
   "cell_type": "code",
   "execution_count": 335,
   "metadata": {},
   "outputs": [],
   "source": [
    "from csv import DictReader\n",
    "\n",
    "reader = DictReader(open('podatki/ml-latest-small/ratings.csv', 'rt', encoding='utf-8'))\n",
    "for row in reader:\n",
    "    user = row[\"userId\"]\n",
    "    movie = row[\"movieId\"]\n",
    "    rating = row[\"rating\"]\n",
    "    timestamp = row[\"timestamp\"]"
   ]
  },
  {
   "cell_type": "markdown",
   "metadata": {
    "lang": "sl"
   },
   "source": [
    "Podatki v zadnji vrstici datoteke:"
   ]
  },
  {
   "cell_type": "code",
   "execution_count": 336,
   "metadata": {},
   "outputs": [
    {
     "data": {
      "text/plain": [
       "('671', '6565', '3.5', '1074784724')"
      ]
     },
     "execution_count": 336,
     "metadata": {},
     "output_type": "execute_result"
    }
   ],
   "source": [
    "user, movie, rating, timestamp"
   ]
  },
  {
   "cell_type": "markdown",
   "metadata": {
    "lang": "sl"
   },
   "source": [
    "Pretvorba časovnega formata (*Unix time*). Kode za oblikovanje so navedene v dokumentaciji modula [`datetime`](https://docs.python.org/3/library/datetime.html#strftime-and-strptime-behavior)."
   ]
  },
  {
   "cell_type": "code",
   "execution_count": 337,
   "metadata": {},
   "outputs": [
    {
     "data": {
      "text/plain": [
       "'2008-08-05 02:56'"
      ]
     },
     "execution_count": 337,
     "metadata": {},
     "output_type": "execute_result"
    }
   ],
   "source": [
    "from datetime import datetime\n",
    "\n",
    "t = 1217897793 # Unix-time\n",
    "ts = datetime.fromtimestamp(t).strftime('%Y-%m-%d %H:%M')\n",
    "ts"
   ]
  }
 ],
 "metadata": {
  "kernelspec": {
   "display_name": "Python 3 (ipykernel)",
   "language": "python",
   "name": "python3"
  },
  "language_info": {
   "codemirror_mode": {
    "name": "ipython",
    "version": 3
   },
   "file_extension": ".py",
   "mimetype": "text/x-python",
   "name": "python",
   "nbconvert_exporter": "python",
   "pygments_lexer": "ipython3",
   "version": "3.8.3"
  },
  "latex_envs": {
   "LaTeX_envs_menu_present": true,
   "autoclose": false,
   "autocomplete": true,
   "bibliofile": "biblio.bib",
   "cite_by": "apalike",
   "current_citInitial": 1,
   "eqLabelWithNumbers": true,
   "eqNumInitial": 1,
   "hotkeys": {
    "equation": "Ctrl-E",
    "itemize": "Ctrl-I"
   },
   "labels_anchors": false,
   "latex_user_defs": false,
   "report_style_numbering": false,
   "user_envs_cfg": false
  },
  "nbTranslate": {
   "displayLangs": [
    "sl"
   ],
   "hotkey": "alt-t",
   "langInMainMenu": true,
   "sourceLang": "sl",
   "targetLang": "en",
   "useGoogleTranslate": true
  }
 },
 "nbformat": 4,
 "nbformat_minor": 2
}
