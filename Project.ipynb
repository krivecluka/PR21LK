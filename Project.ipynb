{
 "cells": [
  {
   "cell_type": "markdown",
   "id": "4b4ec5f2",
   "metadata": {},
   "source": [
    "**GLAVNI CILJI**\n",
    "  \n",
    "1. Uspesno napovedat rezultat strela na gol glede na pozicijo, kjer se igralec odloci za strel\n",
    "2. Tezave s koncentracijo\n",
    "    - v kateri minuti tekme se naredi najvec tehnicnih napak\n",
    "     - katera ekipa dela najvec in katera najmanj tehnicnih napak\n",
    "3. pogrupirat ekipe glede na:\n",
    "        - napad (najvec strelov na gol, najvec narjenih 7m (7m+), najvec narjenih faulov nad njimi (prekršek), asistenc)\n",
    "        - obrambo (fauli(prekršek+), najvec obramb(Strel na gol-vratar, 7m vratar), bloki(blok+))\n",
    "        - napake (2min-, blok-, 7m-, koraki-, zoga-, rumen,rdec karton, moder karton, sterel zgreseno)\n",
    "        - fairplay (7m, rumen, rdec karto, moder)\n",
    "\n",
    "Bonus: Analizirat klub RK Dobova, v primerjavi z ostalimi klubi lige\n"
   ]
  },
  {
   "cell_type": "markdown",
   "id": "cb96aebf",
   "metadata": {},
   "source": [
    "**ZA NARDIT**  \n",
    "  \n",
    "0. polepsaj podatke - nalozi, brisi, ime priimek, naredi IDje DONE\n",
    "1. Povezat igralce z ekipami DONE\n",
    "2. Pripravit matriko za napoved golov - ekipa, yac, kon, class\n",
    "3.  - pripravi kolicnik - fairplay, napad, obrambo, uspesnost, napake DONE"
   ]
  },
  {
   "cell_type": "markdown",
   "id": "f85a1613",
   "metadata": {},
   "source": [
    "# 1. Moška rokometna liga slovenije"
   ]
  },
  {
   "cell_type": "markdown",
   "id": "a65f228b",
   "metadata": {},
   "source": [
    "<h2>Branje in urejanje podatkov </h2>"
   ]
  },
  {
   "cell_type": "markdown",
   "id": "44bc07bd",
   "metadata": {},
   "source": [
    "Uvozi knjižnice"
   ]
  },
  {
   "cell_type": "code",
   "execution_count": 1,
   "id": "2efdacb9",
   "metadata": {},
   "outputs": [],
   "source": [
    "import pandas as pd\n",
    "import numpy as np\n",
    "import collections\n",
    "import matplotlib.pyplot as plt\n",
    "import scipy.cluster.hierarchy as sch\n",
    "import scipy"
   ]
  },
  {
   "cell_type": "markdown",
   "id": "33b1d496",
   "metadata": {},
   "source": [
    "Uvoz podatkov iz excel tabel, naloži le uporabne stolpce"
   ]
  },
  {
   "cell_type": "code",
   "execution_count": 2,
   "id": "841cb8d2",
   "metadata": {},
   "outputs": [],
   "source": [
    "tekme = pd.read_excel('podatki/tabele.xlsx', sheet_name=\"Tekme\")\n",
    "akcije = pd.read_excel('podatki/tabele.xlsx', sheet_name=\"Igralci akcije\", usecols=\"A,E:K\")\n"
   ]
  },
  {
   "cell_type": "markdown",
   "id": "3364c848",
   "metadata": {},
   "source": [
    "Iz zgoščenih IDjev igralcev naredi berljive IDje "
   ]
  },
  {
   "cell_type": "code",
   "execution_count": 3,
   "id": "310be05a",
   "metadata": {},
   "outputs": [],
   "source": [
    "unikat_igralci = akcije['ID Igralca'].unique()\n",
    "\n",
    "enum_igralci = {}\n",
    "for n,i in enumerate(unikat_igralci):\n",
    "    enum_igralci[i]=n\n",
    "\n",
    "igralciID = []\n",
    "\n",
    "for i in akcije['ID Igralca']:\n",
    "    igralciID.append(enum_igralci[i])\n",
    "    \n",
    "akcije[\"ID Igralca\"] = igralciID"
   ]
  },
  {
   "cell_type": "markdown",
   "id": "0b2e9d79",
   "metadata": {},
   "source": [
    "Poimenuj vse ekipe"
   ]
  },
  {
   "cell_type": "code",
   "execution_count": 4,
   "id": "9063131a",
   "metadata": {},
   "outputs": [
    {
     "data": {
      "text/plain": [
       "{'RK SLOVENJ GRADEC 2011': 0,\n",
       " 'RK TRIMO TREBNJE': 1,\n",
       " 'RD BUTAN PLIN IZOLA': 2,\n",
       " 'RK DOBOVA': 3,\n",
       " 'RD URBANSCAPE LOKA': 4,\n",
       " 'MRK KRKA': 5,\n",
       " 'RD RIKO RIBNICA': 6,\n",
       " 'RK GORENJE VELENJE': 7,\n",
       " 'RD KOPER': 8,\n",
       " 'RK CELJE PIVOVARNA LAŠKO': 9,\n",
       " 'RK JERUZALEM ORMOŽ': 10,\n",
       " 'RK MARIBOR BRANIK': 11,\n",
       " 'MRK LJUBLJANA': 12,\n",
       " 'RD LL GROSIST SLOVAN': 13,\n",
       " 'RK SVIŠ IVANČNA GORICA': 14,\n",
       " 'RD HERZ ŠMARTNO': 15}"
      ]
     },
     "execution_count": 4,
     "metadata": {},
     "output_type": "execute_result"
    }
   ],
   "source": [
    "unikat_ekipe = tekme['Domača ekipa'].unique()\n",
    "\n",
    "enum_ekipe = {}\n",
    "for n,i in enumerate(unikat_ekipe):\n",
    "    enum_ekipe[i]=n\n",
    "    \n",
    "enum_ekipe"
   ]
  },
  {
   "cell_type": "markdown",
   "id": "43d4f930",
   "metadata": {},
   "source": [
    "Preveri ali se ujemajo id tekem iz obeh tabel"
   ]
  },
  {
   "cell_type": "code",
   "execution_count": 5,
   "id": "7b8f3847",
   "metadata": {},
   "outputs": [
    {
     "name": "stdout",
     "output_type": "stream",
     "text": [
      "(438,)\n",
      "(433,)\n"
     ]
    }
   ],
   "source": [
    "tekme_uni = tekme[\"id tekme\"].unique()\n",
    "akcije_tekme_uni = akcije[\"ID tekme\"].unique()\n",
    "\n",
    "print(tekme_uni.shape)\n",
    "print(akcije_tekme_uni.shape)\n",
    "\n",
    "\n",
    "#Opazim da je v eni tabeli 5 vec zabelezenih tekem, ki jih bo potrebno izbrisati \n",
    "for i in tekme[\"id tekme\"].unique():\n",
    "    if i not in akcije[\"ID tekme\"].unique():\n",
    "        tekme.drop(tekme.loc[tekme[\"id tekme\"]==i].index, inplace=True)\n",
    "\n"
   ]
  },
  {
   "cell_type": "markdown",
   "id": "7da60973",
   "metadata": {},
   "source": [
    "Igralce poveži z ekipo"
   ]
  },
  {
   "cell_type": "code",
   "execution_count": 6,
   "id": "971ebd1e",
   "metadata": {},
   "outputs": [],
   "source": [
    "clani_ekipe = collections.defaultdict(list)\n",
    "\n",
    "for i in range(len(unikat_igralci)):\n",
    "    unikat_tekme = akcije[akcije[\"ID Igralca\"]==i][\"ID tekme\"].unique()\n",
    "    prava = tekme[tekme[\"id tekme\"]== unikat_tekme[0]][\"Domača ekipa\"].values[0]\n",
    "    fake = tekme[tekme[\"id tekme\"]== unikat_tekme[0]][\"Gsotujoca ekipa\"].values[0]\n",
    "    for j in range(1,3,1):\n",
    "        try:\n",
    "            if (prava == tekme[tekme[\"id tekme\"]== unikat_tekme[j]][\"Domača ekipa\"].values[0] or prava == tekme[tekme[\"id tekme\"]== unikat_tekme[j]][\"Gsotujoca ekipa\"].values[0]):\n",
    "                continue\n",
    "            elif (fake == tekme[tekme[\"id tekme\"]== unikat_tekme[j]][\"Domača ekipa\"].values[0] or fake == tekme[tekme[\"id tekme\"]== unikat_tekme[j]][\"Gsotujoca ekipa\"].values[0]):\n",
    "                prava = fake\n",
    "                fake = \"\"\n",
    "            else:\n",
    "                continue\n",
    "#                 print(\"Menjal ekipo\")\n",
    "        except:\n",
    "              continue\n",
    "#             print(\"Manj kot 3 tekme\")\n",
    "    clani_ekipe[prava].append(i) \n",
    "    \n",
    "#Igralci, ki imajo manj kot 3 tekme igrajo po navadi na domačih tleh, \n",
    "#saj gre za igralce mlajših kategorij, ki so dobili priložnost za igro pred domačimi navijači.\n",
    "#Take igralce pripišem domači ekipi\n",
    "\n",
    "#Igralcem, ki so zaigrali na dveh različnih tekmah s štirimi različnimi ekipami ni mogoče natančno pripisati ekipe,\n",
    "#zato sem jim pripisal kar zadnjo domačo ekipo, saj je najverjetneje, da je to njihov aktualni klub.\n"
   ]
  },
  {
   "cell_type": "markdown",
   "id": "20ea28cc",
   "metadata": {},
   "source": [
    "Pripiši ekipo vsem akcijam s pomočjo id igralca"
   ]
  },
  {
   "cell_type": "code",
   "execution_count": 7,
   "id": "8589640b",
   "metadata": {},
   "outputs": [
    {
     "data": {
      "text/html": [
       "<div>\n",
       "<style scoped>\n",
       "    .dataframe tbody tr th:only-of-type {\n",
       "        vertical-align: middle;\n",
       "    }\n",
       "\n",
       "    .dataframe tbody tr th {\n",
       "        vertical-align: top;\n",
       "    }\n",
       "\n",
       "    .dataframe thead th {\n",
       "        text-align: right;\n",
       "    }\n",
       "</style>\n",
       "<table border=\"1\" class=\"dataframe\">\n",
       "  <thead>\n",
       "    <tr style=\"text-align: right;\">\n",
       "      <th></th>\n",
       "      <th>ID Igralca</th>\n",
       "      <th>ID tekme</th>\n",
       "      <th>Čas tekem (sek)</th>\n",
       "      <th>Akcija tekme</th>\n",
       "      <th>Akcijatekme Dva</th>\n",
       "      <th>Pozicija strela start</th>\n",
       "      <th>Pozicija strela end</th>\n",
       "      <th>Vrsta napada</th>\n",
       "      <th>Ekipa</th>\n",
       "      <th>ID ekipa</th>\n",
       "    </tr>\n",
       "  </thead>\n",
       "  <tbody>\n",
       "    <tr>\n",
       "      <th>0</th>\n",
       "      <td>0</td>\n",
       "      <td>184783</td>\n",
       "      <td>64</td>\n",
       "      <td>Rum. karton</td>\n",
       "      <td>NaN</td>\n",
       "      <td>NaN</td>\n",
       "      <td>NaN</td>\n",
       "      <td>NaN</td>\n",
       "      <td>RD RIKO RIBNICA</td>\n",
       "      <td>6</td>\n",
       "    </tr>\n",
       "    <tr>\n",
       "      <th>1</th>\n",
       "      <td>1</td>\n",
       "      <td>184783</td>\n",
       "      <td>71</td>\n",
       "      <td>7M</td>\n",
       "      <td>ZADETEK</td>\n",
       "      <td>NaN</td>\n",
       "      <td>NaN</td>\n",
       "      <td>NaN</td>\n",
       "      <td>RK SLOVENJ GRADEC 2011</td>\n",
       "      <td>0</td>\n",
       "    </tr>\n",
       "    <tr>\n",
       "      <th>2</th>\n",
       "      <td>2</td>\n",
       "      <td>184783</td>\n",
       "      <td>71</td>\n",
       "      <td>7M -Vratar</td>\n",
       "      <td>ZADETEK</td>\n",
       "      <td>NaN</td>\n",
       "      <td>NaN</td>\n",
       "      <td>NaN</td>\n",
       "      <td>RD RIKO RIBNICA</td>\n",
       "      <td>6</td>\n",
       "    </tr>\n",
       "    <tr>\n",
       "      <th>3</th>\n",
       "      <td>1</td>\n",
       "      <td>184783</td>\n",
       "      <td>109</td>\n",
       "      <td>Strel na gol</td>\n",
       "      <td>ZADETEK</td>\n",
       "      <td>NaN</td>\n",
       "      <td>NaN</td>\n",
       "      <td>NaN</td>\n",
       "      <td>RK SLOVENJ GRADEC 2011</td>\n",
       "      <td>0</td>\n",
       "    </tr>\n",
       "    <tr>\n",
       "      <th>4</th>\n",
       "      <td>2</td>\n",
       "      <td>184783</td>\n",
       "      <td>109</td>\n",
       "      <td>Strel na gol - Vratar</td>\n",
       "      <td>ZADETEK</td>\n",
       "      <td>NaN</td>\n",
       "      <td>NaN</td>\n",
       "      <td>NaN</td>\n",
       "      <td>RD RIKO RIBNICA</td>\n",
       "      <td>6</td>\n",
       "    </tr>\n",
       "    <tr>\n",
       "      <th>...</th>\n",
       "      <td>...</td>\n",
       "      <td>...</td>\n",
       "      <td>...</td>\n",
       "      <td>...</td>\n",
       "      <td>...</td>\n",
       "      <td>...</td>\n",
       "      <td>...</td>\n",
       "      <td>...</td>\n",
       "      <td>...</td>\n",
       "      <td>...</td>\n",
       "    </tr>\n",
       "    <tr>\n",
       "      <th>80343</th>\n",
       "      <td>404</td>\n",
       "      <td>194838</td>\n",
       "      <td>3600</td>\n",
       "      <td>Strel na gol</td>\n",
       "      <td>OBRAMBA</td>\n",
       "      <td>8.0</td>\n",
       "      <td>13.0</td>\n",
       "      <td>POSTAVLJENA OBRAMBA</td>\n",
       "      <td>RK CELJE PIVOVARNA LAŠKO</td>\n",
       "      <td>9</td>\n",
       "    </tr>\n",
       "    <tr>\n",
       "      <th>80344</th>\n",
       "      <td>268</td>\n",
       "      <td>194838</td>\n",
       "      <td>3600</td>\n",
       "      <td>Strel na gol - Vratar</td>\n",
       "      <td>OBRAMBA</td>\n",
       "      <td>8.0</td>\n",
       "      <td>13.0</td>\n",
       "      <td>POSTAVLJENA OBRAMBA</td>\n",
       "      <td>MRK LJUBLJANA</td>\n",
       "      <td>12</td>\n",
       "    </tr>\n",
       "    <tr>\n",
       "      <th>80345</th>\n",
       "      <td>268</td>\n",
       "      <td>194838</td>\n",
       "      <td>3600</td>\n",
       "      <td>Strel na gol - Vratar</td>\n",
       "      <td>ZADETEK</td>\n",
       "      <td>3.0</td>\n",
       "      <td>8.0</td>\n",
       "      <td>POSTAVLJENA OBRAMBA</td>\n",
       "      <td>MRK LJUBLJANA</td>\n",
       "      <td>12</td>\n",
       "    </tr>\n",
       "    <tr>\n",
       "      <th>80346</th>\n",
       "      <td>73</td>\n",
       "      <td>194838</td>\n",
       "      <td>3600</td>\n",
       "      <td>Strel na gol</td>\n",
       "      <td>ZADETEK</td>\n",
       "      <td>3.0</td>\n",
       "      <td>8.0</td>\n",
       "      <td>POSTAVLJENA OBRAMBA</td>\n",
       "      <td>RK CELJE PIVOVARNA LAŠKO</td>\n",
       "      <td>9</td>\n",
       "    </tr>\n",
       "    <tr>\n",
       "      <th>80347</th>\n",
       "      <td>73</td>\n",
       "      <td>194838</td>\n",
       "      <td>3600</td>\n",
       "      <td>Žoga+</td>\n",
       "      <td>NaN</td>\n",
       "      <td>0.0</td>\n",
       "      <td>0.0</td>\n",
       "      <td>NaN</td>\n",
       "      <td>RK CELJE PIVOVARNA LAŠKO</td>\n",
       "      <td>9</td>\n",
       "    </tr>\n",
       "  </tbody>\n",
       "</table>\n",
       "<p>80348 rows × 10 columns</p>\n",
       "</div>"
      ],
      "text/plain": [
       "       ID Igralca  ID tekme  Čas tekem (sek)           Akcija tekme  \\\n",
       "0               0    184783               64            Rum. karton   \n",
       "1               1    184783               71                     7M   \n",
       "2               2    184783               71             7M -Vratar   \n",
       "3               1    184783              109           Strel na gol   \n",
       "4               2    184783              109  Strel na gol - Vratar   \n",
       "...           ...       ...              ...                    ...   \n",
       "80343         404    194838             3600           Strel na gol   \n",
       "80344         268    194838             3600  Strel na gol - Vratar   \n",
       "80345         268    194838             3600  Strel na gol - Vratar   \n",
       "80346          73    194838             3600           Strel na gol   \n",
       "80347          73    194838             3600                  Žoga+   \n",
       "\n",
       "      Akcijatekme Dva  Pozicija strela start  Pozicija strela end  \\\n",
       "0                 NaN                    NaN                  NaN   \n",
       "1             ZADETEK                    NaN                  NaN   \n",
       "2             ZADETEK                    NaN                  NaN   \n",
       "3             ZADETEK                    NaN                  NaN   \n",
       "4             ZADETEK                    NaN                  NaN   \n",
       "...               ...                    ...                  ...   \n",
       "80343         OBRAMBA                    8.0                 13.0   \n",
       "80344         OBRAMBA                    8.0                 13.0   \n",
       "80345         ZADETEK                    3.0                  8.0   \n",
       "80346         ZADETEK                    3.0                  8.0   \n",
       "80347             NaN                    0.0                  0.0   \n",
       "\n",
       "              Vrsta napada                     Ekipa  ID ekipa  \n",
       "0                      NaN           RD RIKO RIBNICA         6  \n",
       "1                      NaN    RK SLOVENJ GRADEC 2011         0  \n",
       "2                      NaN           RD RIKO RIBNICA         6  \n",
       "3                      NaN    RK SLOVENJ GRADEC 2011         0  \n",
       "4                      NaN           RD RIKO RIBNICA         6  \n",
       "...                    ...                       ...       ...  \n",
       "80343  POSTAVLJENA OBRAMBA  RK CELJE PIVOVARNA LAŠKO         9  \n",
       "80344  POSTAVLJENA OBRAMBA             MRK LJUBLJANA        12  \n",
       "80345  POSTAVLJENA OBRAMBA             MRK LJUBLJANA        12  \n",
       "80346  POSTAVLJENA OBRAMBA  RK CELJE PIVOVARNA LAŠKO         9  \n",
       "80347                  NaN  RK CELJE PIVOVARNA LAŠKO         9  \n",
       "\n",
       "[80348 rows x 10 columns]"
      ]
     },
     "execution_count": 7,
     "metadata": {},
     "output_type": "execute_result"
    }
   ],
   "source": [
    "ekipe_akcije = []\n",
    "ekipe_id = []\n",
    "for row in akcije[\"ID Igralca\"]:\n",
    "    for k,v in clani_ekipe.items():\n",
    "        if row in v:\n",
    "            ekipe_akcije.append(k)\n",
    "            ekipe_id.append(enum_ekipe[k])\n",
    "            break\n",
    "            \n",
    "akcije[\"Ekipa\"] = ekipe_akcije\n",
    "akcije[\"ID ekipa\"] = ekipe_id\n",
    "akcije\n",
    "# akcije.to_excel(\"akcije.xlsx\", index = False)"
   ]
  },
  {
   "cell_type": "markdown",
   "id": "af9aaf58",
   "metadata": {},
   "source": [
    "Vizualizacija števila akcij na ekipo"
   ]
  },
  {
   "cell_type": "code",
   "execution_count": 8,
   "id": "df993131",
   "metadata": {},
   "outputs": [
    {
     "data": {
      "text/plain": [
       "Text(0.5, 0, 'Število akcij')"
      ]
     },
     "execution_count": 8,
     "metadata": {},
     "output_type": "execute_result"
    },
    {
     "data": {
      "image/png": "[encoded data removed]",
      "text/plain": [
       "<Figure size 720x864 with 1 Axes>"
      ]
     },
     "metadata": {
      "needs_background": "light"
     },
     "output_type": "display_data"
    }
   ],
   "source": [
    "barve = [(1,0+i/10000,0) for i in range(0,10000,625)]\n",
    "ekipa_st_akcij = {}\n",
    "\n",
    "for k,v in enum_ekipe.items():\n",
    "    ekipa_st_akcij[k] = len(akcije[akcije[\"ID ekipa\"]==v])\n",
    "\n",
    "ekipa_st_akcij_S = dict(sorted(ekipa_st_akcij.items(), key=lambda item: item[1],reverse=True))     \n",
    "plt.figure(figsize=(10,12))\n",
    "ax = plt.axes()\n",
    "ax.set_axisbelow(True)\n",
    "ax.grid(color='black', linestyle='dashed')\n",
    "ax.set_facecolor(\"grey\")\n",
    "plt.barh(list(ekipa_st_akcij_S.keys()), ekipa_st_akcij_S.values(),  color=barve ,  edgecolor='black')\n",
    "plt.xticks(fontsize=12 )\n",
    "plt.yticks(fontsize=14 )\n",
    "plt.title(\"Količina zabeleženih akcij po ekipah\", size=13)\n",
    "plt.xlabel('Število akcij', size=20)"
   ]
  },
  {
   "cell_type": "markdown",
   "id": "3f57b6c9",
   "metadata": {},
   "source": [
    "<h2>Gručenje ekip po uspešnosti </h2>"
   ]
  },
  {
   "cell_type": "markdown",
   "id": "78cb657e",
   "metadata": {},
   "source": [
    "Priprava matrike"
   ]
  },
  {
   "cell_type": "code",
   "execution_count": 9,
   "id": "0ee8fa79",
   "metadata": {},
   "outputs": [],
   "source": [
    "#Izbrisi zadnji 3 ekipe, saj nimajo dovolj registriranih tekem\n",
    "del enum_ekipe['RD LL GROSIST SLOVAN']\n",
    "del enum_ekipe['RK SVIŠ IVANČNA GORICA']\n",
    "del enum_ekipe['RD HERZ ŠMARTNO']\n",
    "\n",
    "\n",
    "#Dobi stevilo tekem za posamezno ekipo\n",
    "\n",
    "st_tekem_ekipa = {}\n",
    "\n",
    "for idE in range(14):\n",
    "    n = len(akcije[akcije[\"ID ekipa\"] == idE][\"ID tekme\"].unique())\n",
    "    st_tekem_ekipa[idE] = n\n",
    "\n",
    "st_tekem_ekipa\n",
    "\n",
    "\n",
    "    \n",
    "\n",
    "#Ustvari seznam imen stolpcev, ki pridejo v postev\n",
    "napad = [\"Strel na gol\", \"7m+\", \"Prekršek\", \"Asistenca\"]\n",
    "obramba = [\"Prekršek\", \"Blok+\"]\n",
    "obramba_plus = [\"Strel na gol - Vratar\", \"7M -Vratar\"]\n",
    "napake = [\"2min-\", \"Blok-\", \"7m-\", \"Koraki\", \"Žoga-\", \"Rum. karton\", \"Rdec. karton\", \"Mdri. karton\"]\n",
    "napake_plus = [\"Strel na gol\"]\n",
    "\n",
    "#Napolni seznam vseh razdelitev\n",
    "ocenjeni = []\n",
    "\n",
    "\n",
    "#Funkcija za ustvarjanje ocen\n",
    "\n",
    "def ranked(seznam, nar):\n",
    "    global ocenjeni\n",
    "    for i in seznam:\n",
    "        avg = {}\n",
    "        for idE in range(13):\n",
    "            pojavitve = len(akcije[(akcije[\"ID ekipa\"] == idE) & (akcije[\"Akcija tekme\"] == i)])\n",
    "            avg[idE]  = pojavitve/st_tekem_ekipa[idE]\n",
    "\n",
    "        if nar:\n",
    "            srt = {k: v for k, v in sorted(avg.items(), key=lambda item: item[1], reverse=False)}\n",
    "        else:\n",
    "            srt = {k: v for k, v in sorted(avg.items(), key=lambda item: item[1], reverse=True)}\n",
    "        \n",
    "\n",
    "        avg_rnk = [0 for _ in range(13)]\n",
    "        rnk = 1\n",
    "        for i in srt.keys():\n",
    "            avg_rnk[i] = rnk\n",
    "            rnk+=1\n",
    "\n",
    "        ocenjeni.append(avg_rnk)\n",
    "\n",
    "#Funkcija za ustvarjanje ocen z dvemi pogoji\n",
    "\n",
    "def ranked2(seznam, nar, zadetek):\n",
    "    global ocenjeni\n",
    "    for i in seznam:\n",
    "        avg = {}\n",
    "        for idE in range(13):\n",
    "            if zadetek:\n",
    "                pojavitve = len(akcije[(akcije[\"ID ekipa\"] == idE) &\n",
    "                                       ((akcije[\"Akcija tekme\"] == i) & (akcije[\"Akcijatekme Dva\"] == \"ZADETEK\"))])\n",
    "                                                                   \n",
    "            else:\n",
    "                pojavitve = len(akcije[(akcije[\"ID ekipa\"] == idE) &\n",
    "                                       ((akcije[\"Akcija tekme\"] == i) & (akcije[\"Akcijatekme Dva\"] == \"ZGRESENO\"))])\n",
    "                \n",
    "            avg[idE]  = pojavitve/st_tekem_ekipa[idE]\n",
    "\n",
    "        if nar:\n",
    "            srt = {k: v for k, v in sorted(avg.items(), key=lambda item: item[1], reverse=False)}\n",
    "        else:\n",
    "            srt = {k: v for k, v in sorted(avg.items(), key=lambda item: item[1], reverse=True)}\n",
    "\n",
    "        avg_rnk = [0 for _ in range(13)]\n",
    "        rnk = 1\n",
    "        for i in srt.keys():\n",
    "            avg_rnk[i] = rnk\n",
    "            rnk+=1\n",
    "\n",
    "        ocenjeni.append(avg_rnk)\n",
    "\n",
    "#Napad\n",
    "ranked(napad,True)\n",
    "  \n",
    "\n",
    "# # #Obramba\n",
    "ranked(obramba,True)\n",
    "ranked2(obramba_plus,True,True)\n",
    "\n",
    "# # #Napake\n",
    "ranked(napake,False)\n",
    "ranked2(napake_plus,False,False)\n",
    "\n",
    "#ustvari np array iz 2d seznama\n",
    "ocenjeni = np.array(ocenjeni).T\n",
    "# ocenjeni\n",
    "\n",
    "\n"
   ]
  },
  {
   "cell_type": "markdown",
   "id": "501acf7c",
   "metadata": {},
   "source": [
    "Izris gručenja"
   ]
  },
  {
   "cell_type": "code",
   "execution_count": 10,
   "id": "ebbf89fc",
   "metadata": {},
   "outputs": [
    {
     "data": {
      "image/png": "[encoded data removed]",
      "text/plain": [
       "<Figure size 1080x720 with 1 Axes>"
      ]
     },
     "metadata": {
      "needs_background": "light"
     },
     "output_type": "display_data"
    }
   ],
   "source": [
    "\n",
    "\n",
    "imena_ekip = [x for x in enum_ekipe.keys()]\n",
    "L = sch.linkage(ocenjeni, method=\"average\", metric=\"cosine\")\n",
    "\n",
    "\n",
    "plt.figure(figsize=(15, 10))\n",
    "D = sch.dendrogram(L,  labels=imena_ekip, leaf_font_size=15, orientation=\"right\")\n",
    "\n",
    "\n",
    "plt.xlabel(\"Razdalja\", size=15)\n",
    "plt.show()"
   ]
  },
  {
   "cell_type": "markdown",
   "id": "cfe2d3b3",
   "metadata": {},
   "source": [
    "Tu vidimo lepo pogrupirane ekipe glede na kvaliteto in uspesnost. Dobil sem 4 skupine. V Skupini 1 sta klub iy mb in lj. maribor v yadnji nekaj letih ni vec tako konkurencen kot vcasih, ljubljana pa se je po uvrstitvi v prvo ligo nekaj let nazaj pocasi pleza vztrajno izboljsuje. v skupini 1 sta kluba ki spadata na spodnji del lestvice a ne povsem na dno. V drugi skupini so klubi iz dna lestvice. tako izola kot koper sta nekonsistentna kluba ki zkozi leta prehajata med prvo in drugo ligo. slovenj gradec je klub ki yadnja leta ne dosega vec vrhunskih rezultatov. skupina 4 je najvecja, zato je tezko povezati vse ekipo po karakteristiki, a povezava med njimi vseeno obstaja. Gre za skupino, ki se ze nekaj let izmenjuje od mest 2-6 v prvi slo rok ligi. najuspesnejsi ekipi med njimi sta ribnica in velenje, ki sta do razdalje prb 0.1 pravilno osameli.  Velenje je slovit slo rokometni klub, ki se ze vrsto let kot edini klub v slo kosa s celjem. ekipi iz novega mesta in dobove sta kluba sredine lestvice, ki sta po geografskem polozaju ter uspesnosti v ligi zelo podobna. Oba sta pred prb 10 let presla iz druge lige. Oba dosegata konsistentne rezultate iz leta v leto. par loka in trebnje sta prav tako ze dolgo let clana prve lige. Oba dosegata kancek bolse rezultate kot prejsni par. Zadnja skupina je najbolj presenetljiva. Celje, ki je absolutni osamelec prve slovenske lige ima prakticno identicno statistiko z ormozem. Celje je najbolsa ekipa v slovenski ligi od same ustanovitve. Redke so sezono ko rk celje ni prvak, o tem govori tudi statistika uspesnosti ekipe. Definitino sodi v svojo skupino. Ormoz je presenecenje. Gre za dobro ekipo, ki je iz leta v leto boljsa. Uspesnost podatkov lahko pripisemo borbeni in disciplinirani igri, ki pa ne prinese nujno vedno zmage. O tem dejstvu prica njegov polozaj na lestvici, ki niti priblizno ni tako uspesen kot njegov sosed v skupini 5."
   ]
  },
  {
   "cell_type": "markdown",
   "id": "5a9bf9b2",
   "metadata": {},
   "source": [
    "![title](slike/gif.gif)"
   ]
  },
  {
   "cell_type": "markdown",
   "id": "f6d391c3",
   "metadata": {},
   "source": [
    "<p align=\"center\">\n",
    "  <img src=\"https://github.com/krivecluka/PR21LK/blob/main/img/pozicije%20strelov.png\"/>\n",
    "</p>"
   ]
  },
  {
   "cell_type": "code",
   "execution_count": null,
   "id": "2015dbaa",
   "metadata": {},
   "outputs": [],
   "source": []
  }
 ],
 "metadata": {
  "kernelspec": {
   "display_name": "Python 3 (ipykernel)",
   "language": "python",
   "name": "python3"
  },
  "language_info": {
   "codemirror_mode": {
    "name": "ipython",
    "version": 3
   },
   "file_extension": ".py",
   "mimetype": "text/x-python",
   "name": "python",
   "nbconvert_exporter": "python",
   "pygments_lexer": "ipython3",
   "version": "3.8.3"
  },
  "latex_envs": {
   "LaTeX_envs_menu_present": true,
   "autoclose": false,
   "autocomplete": true,
   "bibliofile": "biblio.bib",
   "cite_by": "apalike",
   "current_citInitial": 1,
   "eqLabelWithNumbers": true,
   "eqNumInitial": 1,
   "hotkeys": {
    "equation": "Ctrl-E",
    "itemize": "Ctrl-I"
   },
   "labels_anchors": false,
   "latex_user_defs": false,
   "report_style_numbering": false,
   "user_envs_cfg": false
  },
  "nbTranslate": {
   "displayLangs": [
    "*"
   ],
   "hotkey": "alt-t",
   "langInMainMenu": true,
   "sourceLang": "en",
   "targetLang": "fr",
   "useGoogleTranslate": true
  }
 },
 "nbformat": 4,
 "nbformat_minor": 5
}
